{
 "cells": [
  {
   "cell_type": "markdown",
   "metadata": {},
   "source": [
    "# Exercise 2 : Graph-based SLAM"
   ]
  },
  {
   "cell_type": "markdown",
   "metadata": {},
   "source": [
    "The goal of this assignment is to implement a least-squares based method to address the SLAM problem in its graph-based formulation as explained in the lecture. \n",
    "\n",
    "We will consider 2D poses $(x, y, \\theta)$ of the robot and 2D landmarks $(x_l, y_l)$ as the unknowns in our SLAM problem. The data is provided as a graph structure containing nodes (poses and landmarks) and constraints between these nodes (i.e pose-pose and pose-landmark). These datasets are stored as `dataset.g2o` text files. You are provided with the following datasets (see `data` folder), each of which represents the measurements of one SLAM problem.\n",
    "1. `simulation-pose-pose.g2o`: simulated measurements containing pose-pose constraints only  \n",
    "2. `simulation-pose-landmark.g2o`: simulated measurements containing both pose-pose and pose-landmark constraints\n",
    "3. `intel.g2o`: real world measurements containing pose-pose constraints only\n",
    "4. `dlr.g2o`: real world measurements containing both pose-pose and pose-landmark constraints\n",
    "\n",
    "To get started with this task, we provide some Python code which will help in loading the graph structure, visualize it and other functions that you may need. We also provide additional notes `graph-slam-notes.pdf` which explains the Jacobian computations in detail."
   ]
  },
  {
   "cell_type": "markdown",
   "metadata": {},
   "source": [
    "## Task 2.0 Understanding the graph structure\n",
    "\n",
    "Each graph consists of a set of nodes (or vertices) and edges that connect these nodes. As discussed in the lecture, the nodes correspond to the unknowns of the least-squares SLAM, whereas the edges correspond to the constraints obtained from the measurements.  In this assignment, the graph has the following types of nodes and edges:\n",
    "\n",
    "1. Nodes:\n",
    "\n",
    "    `VERTEX_SE2`: These nodes represent the 2D pose of the robot $(x, y, \\theta)$\n",
    "\n",
    "    `VERTEX_XY`: These nodes represent the 2D location of the landmark $(x_l, y_l)$\n",
    "    \n",
    "2. Edges:\n",
    "\n",
    "    `EDGE_SE2`: These edges represent a constraint between two VERTEX_SE2 nodes. We refer to these edges as pose-pose constraints.\n",
    "    \n",
    "    `EDGE_SE2_XY`: These edges represent a constraint between a VERTEX_SE2 node and a VERTEX_XY node. We refer these edges as pose-landmark edge. \n",
    "    \n",
    "\n",
    "In our code, we represent the graph as a class with the following attributes:\n",
    "1. `nodes`: A dictionary of nodes where the information of each `node` can be accessed with `nodeId` as a key. Each `node` has a unique `nodeId`. This node can be either `VERTEX_SE2` or `VERTEX_XY`. If node has a dimension of 3, it represents the pose the robot (`VERTEX_SE2`). If the node has a dimension of 2, it represents the location of landmark (`VERTEX_XY`).\n",
    "  \n",
    "    \n",
    "2. `edges`: A list of all the `edges` in the graph where each `edge` has the following attributes:\n",
    "\n",
    "`Type`: The type is 'P' if the constraint is a pose-pose constraint (`EDGE_SE2`), whereas it is 'L' of it is a pose-landmark constraint (`EDGE_SE2_XY`).\n",
    "`fromNode`: `nodeId` of the node from which the edge originates from.\n",
    "`toNode`: `nodeId` of the node to which the edge terminates to.\n",
    "`measurement`: The measurement corresponding to the edge.\n",
    "`information`: The corresponding information matrix for the edge constraint.\n",
    "    \n",
    "3. `x`: All the unknowns (node variables) are stacked into a vector. This should be used for updating the state after each iteration of the optimization.\n",
    "\n",
    "4. `lut`: This is a lookup table (implemented as a dictionary in Python). `lut[nodeId]` provides the starting location of the variables of the node with id `nodeId`.\n",
    "\n",
    "Go through the examples in the cell below to understand how to work with the graph structure. Ensure that you understand how the graph is organized. This will be neccessary to solve all the tasks in the assignment. "
   ]
  },
  {
   "cell_type": "code",
   "execution_count": 2,
   "metadata": {},
   "outputs": [
    {
     "ename": "SyntaxError",
     "evalue": "invalid syntax (ex2.py, line 306)",
     "output_type": "error",
     "traceback": [
      "Traceback \u001b[0;36m(most recent call last)\u001b[0m:\n",
      "  File \u001b[1;32m\"/home/stefano/anaconda3/lib/python3.8/site-packages/IPython/core/interactiveshell.py\"\u001b[0m, line \u001b[1;32m3418\u001b[0m, in \u001b[1;35mrun_code\u001b[0m\n    exec(code_obj, self.user_global_ns, self.user_ns)\n",
      "\u001b[0;36m  File \u001b[0;32m\"<ipython-input-2-62ee4124b38d>\"\u001b[0;36m, line \u001b[0;32m1\u001b[0;36m, in \u001b[0;35m<module>\u001b[0;36m\u001b[0m\n\u001b[0;31m    import ex2 as ex\u001b[0m\n",
      "\u001b[0;36m  File \u001b[0;32m\"/home/stefano/Documents/SLAM/2020-msr2-exercise-02-graph-slam/ex2.py\"\u001b[0;36m, line \u001b[0;32m306\u001b[0m\n\u001b[0;31m    b_i =\u001b[0m\n\u001b[0m          ^\u001b[0m\n\u001b[0;31mSyntaxError\u001b[0m\u001b[0;31m:\u001b[0m invalid syntax\n"
     ]
    }
   ],
   "source": [
    "import ex2 as ex\n",
    "%matplotlib inline\n",
    "\n",
    "# load a dataset \n",
    "filename = 'data/simulation-pose-landmark.g2o'\n",
    "graph = ex.read_graph_g2o(filename)\n",
    "\n",
    "# visualize the dataset\n",
    "ex.plot_graph(graph)\n",
    "print('Loaded graph with {} nodes and {} edges'.format(len(graph.nodes), len(graph.edges)))\n",
    "\n",
    "# print information for the two types of nodes\n",
    "nodeId = 128\n",
    "print('Node {} = {} is a VERTEX_SE2 node'.format(nodeId, graph.nodes[nodeId]))\n",
    "\n",
    "# access the state vector using the lookup table\n",
    "fromIdx = graph.lut[nodeId]\n",
    "print('Node {} from the state vector = {}'.format(nodeId,graph.x[fromIdx:fromIdx+3]))\n",
    "\n",
    "nodeId = 1\n",
    "print('Node {} = {} is a VERTEX_XY node'.format(nodeId, graph.nodes[nodeId]))\n",
    "\n",
    "# access the state vector using the lookup table\n",
    "fromIdx = graph.lut[nodeId]\n",
    "print('Node {} from the state vector = {}'.format(nodeId, graph.x[fromIdx:fromIdx+2]))\n",
    "\n",
    "# print information for two types of edges\n",
    "eid = 0 \n",
    "print('Edge {} = {} is a pose-pose constraint'.format(eid, graph.edges[eid]))\n",
    "\n",
    "eid = 1 \n",
    "print('Edge {} = {} is a pose-landmark constraint'.format(eid, graph.edges[eid]))"
   ]
  },
  {
   "cell_type": "markdown",
   "metadata": {},
   "source": [
    "## Task 1.2.1 Computing total error. [5]\n",
    "\n",
    "In this task, you have implement the function  `compute_global_error` function  for computing the current error value for a graph with constraints. Compute this error for all the four datasets and print the results. "
   ]
  },
  {
   "cell_type": "code",
   "execution_count": null,
   "metadata": {},
   "outputs": [],
   "source": []
  },
  {
   "cell_type": "markdown",
   "metadata": {},
   "source": [
    "## 1.2.2 Linearization of a Pose-Pose constraint [5]\n",
    "\n",
    "Since the constraint described by the edge between two pose nodes is non-linear, you need to linearize it solve the least-squares optimization. The function `linearize_pose_pose_constraint` computes the error and the Jacobian for pose-pose constraint. It takes as input: \n",
    "   \n",
    "    x1 : 3x1 vector \n",
    "         $(x,y,\\theta)$ of the first robot pose\n",
    "    x2 : 3x1 vector\n",
    "         $(x,y,\\theta)$ of the second robot pose\n",
    "    z :  3x1 vector\n",
    "         $(x,y,\\theta)$ of the measurement\n",
    "    \n",
    "and returns\n",
    "\n",
    "    e  : 3x1\n",
    "         error of the constraint\n",
    "    A  : 3x3\n",
    "         Jacobian wrt x1\n",
    "    B  : 3x3\n",
    "         Jacobian wrt x2\n",
    "\n",
    "Implement the `linearize_pose_pose_constraint` function and verify that it is correct. \n",
    "\n",
    "**Hint** : You can verify the Jacobian computation by comparing against a numerically Jacobian for your test data.\n"
   ]
  },
  {
   "cell_type": "code",
   "execution_count": null,
   "metadata": {},
   "outputs": [],
   "source": []
  },
  {
   "cell_type": "markdown",
   "metadata": {},
   "source": [
    "## 1.2.3 Linearization of a Pose-Landmark constraint [5]\n",
    "\n",
    "Since the constraint described by the edge between a pose and landmark node is non-linear, you need to linearize it solve the least-squares optimization. The function `linearize_pose_landmark_constraint` computes the error and the Jacobian for pose-landmark constraint. It takes as input: \n",
    "\n",
    "    x : 3x1 vector\n",
    "        (x,y,theta) og the robot pose\n",
    "    l : 2x1 vector\n",
    "        (x,y) of the landmark\n",
    "    z : 2x1 vector\n",
    "        (x,y) of the measurement\n",
    "    \n",
    "and returns:\n",
    "\n",
    "    e : 2x1 vector\n",
    "        error for the constraint\n",
    "    A : 2x3 Jacobian wrt x\n",
    "    B : 2x2 Jacobian wrt l\n",
    "    \n",
    "Implement the `linearize_and_solve` function and verify that it is correct. \n",
    "\n",
    "**Hint** : You can verify the Jacobian computation by comparing against a numerically Jacobian for your test data."
   ]
  },
  {
   "cell_type": "code",
   "execution_count": null,
   "metadata": {},
   "outputs": [],
   "source": []
  },
  {
   "cell_type": "markdown",
   "metadata": {},
   "source": [
    "## 1.2.4 Building and Solving Linearized System [5]\n",
    "\n",
    "The `linearize_and_solve` function builds the $H$ and $b$ matrices in order to solve for $dx$ (i.e. change in the unknowns $x$) for one iteration. The function takes as input:\n",
    "\n",
    "    g : graph at iteration i\n",
    "    \n",
    "and returns\n",
    "\n",
    "    dx : Nx1 vector \n",
    "        change in the solution for the unknowns x\n",
    "\n",
    "Implement the `linearize_and_solve` function. Some skeletal code for the function is already provided to you to start with."
   ]
  },
  {
   "cell_type": "code",
   "execution_count": null,
   "metadata": {},
   "outputs": [],
   "source": []
  },
  {
   "cell_type": "markdown",
   "metadata": {},
   "source": [
    "## 1.2.5 Iterative procedure for solving non-linear least squares [5]\n",
    "\n",
    "The `run_graph_slam` function iteratively solves the least squares problem and updates the unknowns $x$. The procedure should be terminated if the change in $|dx| < 10^-4$ or the until a maximum number of iterations  (maxIter = 100) is reached. \n",
    "\n",
    "Implement the function `run_graph_slam` to perform the optimization. Some hints are provided as comments in the function. Test the function on the `simulation-pose-pose.g2o` and `simulation-pose-landmark.g2o` datasets. "
   ]
  },
  {
   "cell_type": "code",
   "execution_count": null,
   "metadata": {},
   "outputs": [],
   "source": []
  },
  {
   "cell_type": "markdown",
   "metadata": {},
   "source": [
    "## 1.2.6 Results for different datasets [5]\n",
    "\n",
    "Evaluate the results of the graph-slam algorithm for all the four datasets. \n",
    "\n",
    "1. Create a `gif` animation visualing the results after each iteration. \n",
    "2. Plot the error vs iterations for all the datasets.\n",
    "\n",
    "Please run your code locally and upload the `gifs` generated from your results in the cell below."
   ]
  },
  {
   "cell_type": "code",
   "execution_count": null,
   "metadata": {},
   "outputs": [],
   "source": []
  }
 ],
 "metadata": {
  "kernelspec": {
   "display_name": "Python 3",
   "language": "python",
   "name": "python3"
  },
  "language_info": {
   "codemirror_mode": {
    "name": "ipython",
    "version": 3
   },
   "file_extension": ".py",
   "mimetype": "text/x-python",
   "name": "python",
   "nbconvert_exporter": "python",
   "pygments_lexer": "ipython3",
   "version": "3.8.5"
  }
 },
 "nbformat": 4,
 "nbformat_minor": 4
}
